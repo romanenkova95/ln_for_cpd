{
 "cells": [
  {
   "cell_type": "code",
   "execution_count": 1,
   "metadata": {},
   "outputs": [],
   "source": [
    "from utils import cp_detector as cpd\n",
    "from utils import data_generation as gen\n",
    "from utils import statistic_calculation as stat\n",
    "from utils import threshold_calculation as th\n",
    "\n",
    "import torch.nn as nn\n",
    "import torch\n",
    "\n",
    "import matplotlib.pyplot as plt\n",
    "import numpy as np\n",
    "%matplotlib inline\n",
    "\n",
    "%load_ext autoreload\n",
    "%autoreload 2"
   ]
  },
  {
   "cell_type": "code",
   "execution_count": 75,
   "metadata": {},
   "outputs": [],
   "source": [
    "dataset_parameters = {\n",
    "    \"dataset_size\": 500,\n",
    "    \"seq_len\": 100,\n",
    "    \"d\": 50,\n",
    "    \"p\": 10,\n",
    "    \"distribution\": \"normal\",\n",
    "    \"k\": 1,\n",
    "    \"cp\": 50,\n",
    "    \"nu\": 3,\n",
    "    \"seed\": 124\n",
    "}\n",
    "\n",
    "cp_parameters = {\n",
    "    \"alpha\": 0.05,\n",
    "    \"scan\": False,\n",
    "    \"data_based\": False,\n",
    "    \"ln\": False\n",
    "}"
   ]
  },
  {
   "cell_type": "code",
   "execution_count": 76,
   "metadata": {},
   "outputs": [],
   "source": [
    "data_with_cp, data_without_cp, t_cp_idxs = gen.generate_data(**dataset_parameters)"
   ]
  },
  {
   "cell_type": "code",
   "execution_count": 77,
   "metadata": {},
   "outputs": [],
   "source": [
    "layer_norm = nn.LayerNorm(dataset_parameters[\"d\"], elementwise_affine=True).float()\n",
    "# data_with_cp = torch.from_numpy(data_with_cp).float()\n",
    "# data_without_cp = torch.from_numpy(data_without_cp).float()\n",
    "\n",
    "\n",
    "# data_with_cp_ln = (\n",
    "#     layer_norm(data_with_cp)\n",
    "# )\n",
    "# data_without_cp_ln = (\n",
    "#     layer_norm(data_without_cp)\n",
    "# )\n",
    "\n",
    "data_with_cp_ln = (\n",
    "    layer_norm(torch.from_numpy(data_with_cp).float()).detach().numpy()\n",
    ")\n",
    "data_without_cp_ln = (\n",
    "    layer_norm(torch.from_numpy(data_without_cp).float()).detach().numpy()\n",
    ")"
   ]
  },
  {
   "cell_type": "code",
   "execution_count": 103,
   "metadata": {},
   "outputs": [],
   "source": [
    "from utils import knn_divergence as kl\n",
    "import warnings\n",
    "warnings.filterwarnings(\"ignore\")"
   ]
  },
  {
   "cell_type": "code",
   "execution_count": 111,
   "metadata": {},
   "outputs": [
    {
     "name": "stdout",
     "output_type": "stream",
     "text": [
      "Without LN, F||G\n",
      "naive 0.9709231107222958\n",
      "scipy 0.9709231107222958\n",
      "skl_est 0.9709231107222952\n",
      "skl_eff 0.9709231107222958\n",
      "torch -0.4629207183826042\n"
     ]
    }
   ],
   "source": [
    "print('Without LN, F||G')\n",
    "print('naive', kl.naive_estimator(data_without_cp[0], data_with_cp[0], k=20))\n",
    "print('scipy', kl.scipy_estimator(data_without_cp[0], data_with_cp[0], k=20))\n",
    "print('skl_est', kl.skl_estimator(data_without_cp[0], data_with_cp[0], k=20))\n",
    "print('skl_eff', kl.skl_efficient(data_without_cp[0], data_with_cp[0], k=20))\n",
    "\n",
    "loss = nn.KLDivLoss(log_target=False, reduction='mean')\n",
    "print('torch', loss(torch.from_numpy(data_without_cp[0]), torch.from_numpy(data_with_cp[0])).detach().numpy())"
   ]
  },
  {
   "cell_type": "code",
   "execution_count": 114,
   "metadata": {},
   "outputs": [
    {
     "name": "stdout",
     "output_type": "stream",
     "text": [
      "With LN, F||G\n",
      "naive -0.08760431941757002\n",
      "scipy -0.08760423375617118\n",
      "skl_est -0.08760422686750285\n",
      "skl_eff -0.08760423375617013\n",
      "torch -0.45047098\n"
     ]
    }
   ],
   "source": [
    "print('With LN, F||G')\n",
    "print('naive', kl.naive_estimator(data_without_cp_ln[0], data_with_cp_ln[0], k=20))\n",
    "print('scipy', kl.scipy_estimator(data_without_cp_ln[0], data_with_cp_ln[0], k=20))\n",
    "print('skl_est', kl.skl_estimator(data_without_cp_ln[0], data_with_cp_ln[0], k=20))\n",
    "print('skl_eff', kl.skl_efficient(data_without_cp_ln[0], data_with_cp_ln[0], k=20))\n",
    "loss = nn.KLDivLoss(log_target=False, reduction='mean')\n",
    "print('torch', loss(torch.from_numpy(data_without_cp_ln[0]), torch.from_numpy(data_with_cp_ln[0])).detach().numpy())"
   ]
  },
  {
   "cell_type": "code",
   "execution_count": 118,
   "metadata": {},
   "outputs": [
    {
     "name": "stdout",
     "output_type": "stream",
     "text": [
      "Without LN, G||F\n",
      "naive 0.07242428038760351\n",
      "scipy 0.07242428038760429\n",
      "skl_est 0.07242428038760426\n",
      "skl_eff 0.07242428038760379\n",
      "torch -0.5160398394872967\n"
     ]
    }
   ],
   "source": [
    "print('Without LN, G||F')\n",
    "print('naive', kl.naive_estimator(data_with_cp[0], data_without_cp[0], k=20))\n",
    "print('scipy', kl.scipy_estimator(data_with_cp[0], data_without_cp[0], k=20))\n",
    "print('skl_est', kl.skl_estimator(data_with_cp[0], data_without_cp[0], k=20))\n",
    "print('skl_eff', kl.skl_efficient(data_with_cp[0], data_without_cp[0], k=20))\n",
    "print('torch', loss(torch.from_numpy(data_with_cp[0]), torch.from_numpy(data_without_cp[0])).detach().numpy())"
   ]
  },
  {
   "cell_type": "code",
   "execution_count": 120,
   "metadata": {},
   "outputs": [
    {
     "name": "stdout",
     "output_type": "stream",
     "text": [
      "With LN, G||F\n",
      "naive 1.1703446808805702\n",
      "scipy 1.1703447548257033\n",
      "skl_est 1.1703450119657455\n",
      "skl_eff 1.1703447548257044\n",
      "torch -0.45826122\n"
     ]
    }
   ],
   "source": [
    "print('With LN, G||F')\n",
    "print('naive', kl.naive_estimator(data_with_cp_ln[0], data_without_cp_ln[0], k=20))\n",
    "print('scipy', kl.scipy_estimator(data_with_cp_ln[0], data_without_cp_ln[0], k=20))\n",
    "print('skl_est', kl.skl_estimator(data_with_cp_ln[0], data_without_cp_ln[0], k=20))\n",
    "print('skl_eff', kl.skl_efficient(data_with_cp_ln[0], data_without_cp_ln[0], k=20))\n",
    "print('torch', loss(torch.from_numpy(data_with_cp_ln[0]), torch.from_numpy(data_without_cp_ln[0])).detach().numpy())"
   ]
  },
  {
   "cell_type": "code",
   "execution_count": 55,
   "metadata": {},
   "outputs": [],
   "source": [
    "def kl_divergence(mu1, mu2, sigma_1, sigma_2):\n",
    "\tsigma_diag_1 = np.eye(sigma_1.shape[0]) * sigma_1\n",
    "\tsigma_diag_2 = np.eye(sigma_2.shape[0]) * sigma_2\n",
    "\n",
    "\tsigma_diag_2_inv = np.linalg.inv(sigma_diag_2)\n",
    "\n",
    "\tkl = 0.5 * (np.log(np.linalg.det(sigma_diag_2) / np.linalg.det(sigma_diag_2))\n",
    "\t\t\t\t- mu1.shape[0] + np.trace(np.matmul(sigma_diag_2_inv, sigma_diag_1))\n",
    "\t\t\t\t+ np.matmul(np.matmul(np.transpose(mu2 - mu1), sigma_diag_2_inv), (mu2 - mu1))\n",
    "\t\t\t\t)\n",
    "\n",
    "\treturn kl"
   ]
  },
  {
   "cell_type": "code",
   "execution_count": 60,
   "metadata": {},
   "outputs": [],
   "source": [
    "d = dataset_parameters[\"d\"]\n",
    "p = dataset_parameters[\"p\"]\n",
    "k = dataset_parameters[\"k\"]\n",
    "mu_1 = np.zeros(d)\n",
    "sigma_1 = np.identity(d)\n",
    "\n",
    "mu_2 = np.zeros(d)\n",
    "mu_2[-p:] = (d - 1) * k/d \n",
    "\n",
    "sigma_2 = ((d - 1) / d)**2 *np.identity(d)\n"
   ]
  },
  {
   "cell_type": "code",
   "execution_count": 61,
   "metadata": {},
   "outputs": [
    {
     "data": {
      "text/plain": [
       "5.0"
      ]
     },
     "execution_count": 61,
     "metadata": {},
     "output_type": "execute_result"
    }
   ],
   "source": [
    "kl_divergence(mu_1, mu_2, sigma_2, sigma_2)"
   ]
  },
  {
   "cell_type": "code",
   "execution_count": 67,
   "metadata": {},
   "outputs": [],
   "source": [
    "d = dataset_parameters[\"d\"]\n",
    "p = dataset_parameters[\"p\"]\n",
    "k = dataset_parameters[\"k\"]\n",
    "mu_1 = np.zeros(d)\n",
    "sigma_1 = np.identity(d)\n",
    "\n",
    "mu_2 = np.zeros(d)\n",
    "mu_2[-p:] = k"
   ]
  },
  {
   "cell_type": "code",
   "execution_count": 68,
   "metadata": {},
   "outputs": [
    {
     "data": {
      "text/plain": [
       "5.0"
      ]
     },
     "execution_count": 68,
     "metadata": {},
     "output_type": "execute_result"
    }
   ],
   "source": [
    "kl_divergence(mu_1, mu_2, sigma_1, sigma_1)"
   ]
  },
  {
   "cell_type": "code",
   "execution_count": 22,
   "metadata": {},
   "outputs": [],
   "source": [
    "# data_with_cp_ln = (\n",
    "#     layer_norm(torch.from_numpy(data_with_cp).float()).detach().numpy()\n",
    "# )\n",
    "# data_without_cp_ln = (\n",
    "#     layer_norm(torch.from_numpy(data_without_cp).float()).detach().numpy()\n",
    "# )\n",
    "\n",
    "# data_with_cp_ln = (data_with_cp - np.expand_dims(data_with_cp.mean(2), -1))/ np.expand_dims(data_with_cp.std(2), -1)\n",
    "# data_without_cp_ln = (data_without_cp - np.expand_dims(data_without_cp.mean(2), -1)) / np.expand_dims(data_without_cp.std(2), -1)\n",
    "\n",
    "# data_with_cp_ln_mean = (data_with_cp - np.expand_dims(data_with_cp.mean(2), -1))\n",
    "# data_without_cp_ln_mean = (data_without_cp - np.expand_dims(data_without_cp.mean(2), -1))\n",
    "\n",
    "# data_with_cp_ln_std = data_with_cp / np.expand_dims(data_with_cp.std(2), -1)\n",
    "# data_without_cp_ln_std = data_without_cp / np.expand_dims(data_without_cp.std(2), -1)"
   ]
  },
  {
   "cell_type": "code",
   "execution_count": 24,
   "metadata": {},
   "outputs": [],
   "source": [
    "delta_sic_with, likelihood_cp_with = cpd.t_dist_data_inference(data_with_cp, dataset_parameters)\n",
    "delta_sic_without, likelihood_cp_without = cpd.t_dist_data_inference(data_without_cp, dataset_parameters)"
   ]
  },
  {
   "cell_type": "code",
   "execution_count": 29,
   "metadata": {},
   "outputs": [],
   "source": [
    "delta_sic_with, likelihood_cp_with = cpd.t_dist_data_inference(data_with_cp, dataset_parameters)\n",
    "delta_sic_without, likelihood_cp_without = cpd.t_dist_data_inference(data_without_cp_ln, dataset_parameters)"
   ]
  },
  {
   "cell_type": "code",
   "execution_count": 25,
   "metadata": {},
   "outputs": [],
   "source": [
    "delta_sic_with_ln, likelihood_cp_with_ln = cpd.t_dist_data_inference(data_with_cp_ln, dataset_parameters)\n",
    "delta_sic_without_ln, likelihood_cp_without_ln = cpd.t_dist_data_inference(data_without_cp_ln, dataset_parameters)"
   ]
  },
  {
   "cell_type": "code",
   "execution_count": 26,
   "metadata": {},
   "outputs": [],
   "source": [
    "w=5\n",
    "min_delta = int(round(min(delta_sic_with.min(), delta_sic_without.min(), delta_sic_with_ln.min(), delta_sic_without_ln.min()), 0))\n",
    "max_delta = int(round(max(delta_sic_with[:, w:-w].max(), delta_sic_without[:, w:-w].max(), delta_sic_with_ln[:, w:-w].max(), delta_sic_without_ln[:, w:-w].max()), 0))\n"
   ]
  },
  {
   "cell_type": "code",
   "execution_count": 30,
   "metadata": {},
   "outputs": [],
   "source": [
    "fp_dict = {}\n",
    "fn_dict = {}\n",
    "fp_ln_dict = {}\n",
    "fn_ln_dict = {}\n",
    "for th in range(min_delta, max_delta):\n",
    "    detected_cp = np.where(delta_sic_with.min(1) > th , -1, likelihood_cp_with.argmin(1))\n",
    "    detected_false_cp = np.where(delta_sic_without.min(1) > th , -1, likelihood_cp_without.argmin(1))\n",
    "\n",
    "    fn, fp = cpd.calculate_error(detected_cp, detected_false_cp)\n",
    "\n",
    "    detected_cp_ln = np.where(delta_sic_with_ln.min(1) > th , -1, likelihood_cp_with_ln.argmin(1))\n",
    "    detected_false_cp_ln = np.where(delta_sic_without_ln.min(1) > th , -1, likelihood_cp_without_ln.argmin(1))\n",
    "\n",
    "    fn_ln, fp_ln = cpd.calculate_error(detected_cp_ln, detected_false_cp_ln)\n",
    "\n",
    "    fp_dict[th] = fp\n",
    "    fp_ln_dict[th] = fp_ln\n",
    "    fn_dict[th] = fn\n",
    "    fn_ln_dict[th] = fn_ln"
   ]
  },
  {
   "cell_type": "code",
   "execution_count": 31,
   "metadata": {},
   "outputs": [
    {
     "data": {
      "text/plain": [
       "<matplotlib.legend.Legend at 0x7f6fc24e7090>"
      ]
     },
     "execution_count": 31,
     "metadata": {},
     "output_type": "execute_result"
    },
    {
     "data": {
      "image/png": "[encoded data removed]",
      "text/plain": [
       "<Figure size 640x480 with 1 Axes>"
      ]
     },
     "metadata": {},
     "output_type": "display_data"
    }
   ],
   "source": [
    "plt.plot(\n",
    "    [value for value in fp_dict.values()],\n",
    "    [value for value in fn_dict.values()],\n",
    "    #\"o\",\n",
    "    label=\"Without LN\"\n",
    ")\n",
    "\n",
    "plt.plot(\n",
    "    [value for value in fp_ln_dict.values()],\n",
    "    [value for value in fn_ln_dict.values()],\n",
    "    #\"s\",\n",
    "    label=\"WITH LN\"\n",
    ")\n",
    "\n",
    "plt.xlabel(\"False alarm rate\")\n",
    "plt.ylabel(\"False negative rate\");\n",
    "plt.legend()"
   ]
  },
  {
   "cell_type": "code",
   "execution_count": 40,
   "metadata": {},
   "outputs": [],
   "source": [
    "import pickle\n",
    "path = \"outputs/2024-03-06/13-34-31/\"\n",
    "\n",
    "with open(path + 'alpha.pickle', 'rb') as f:\n",
    "    lin_stat_alpha = pickle.load(f)\n",
    "with open(path + 'beta.pickle', 'rb') as f:\n",
    "    lin_stat_beta = pickle.load(f)\n",
    "with open(path + 'alpha_ln.pickle', 'rb') as f:\n",
    "    lin_stat_alpha_ln = pickle.load(f)\n",
    "with open(path + 'beta_ln.pickle', 'rb') as f:\n",
    "    lin_stat_beta_ln = pickle.load(f)"
   ]
  },
  {
   "cell_type": "code",
   "execution_count": 41,
   "metadata": {},
   "outputs": [
    {
     "data": {
      "text/plain": [
       "<matplotlib.legend.Legend at 0x7f6fc23fcf50>"
      ]
     },
     "execution_count": 41,
     "metadata": {},
     "output_type": "execute_result"
    },
    {
     "data": {
      "image/png": "[encoded data removed]",
      "text/plain": [
       "<Figure size 1500x500 with 2 Axes>"
      ]
     },
     "metadata": {},
     "output_type": "display_data"
    }
   ],
   "source": [
    "f, (ax1, ax2) = plt.subplots(1, 2, figsize=(15, 5))\n",
    "\n",
    "ax1.plot(\n",
    "    [key for key in lin_stat_beta.keys()],\n",
    "    [1 - value for value in lin_stat_beta.values()],\n",
    "    label=\"Lin. Without LN\",\n",
    ")\n",
    "\n",
    "ax1.plot(\n",
    "    [key for key in lin_stat_beta_ln.keys()],\n",
    "    [1 - value for value in lin_stat_beta_ln.values()],\n",
    "    label=\"Lin. With LN\",\n",
    ")\n",
    "\n",
    "ax1.set_xlabel(\"Data dimensions, d\", fontsize=16)\n",
    "ax1.set_ylabel(\"Test power\", fontsize=16)\n",
    "ax1.legend()\n",
    "\n",
    "ax2.plot(\n",
    "    [key for key in lin_stat_alpha.keys()],\n",
    "    [value for value in lin_stat_alpha.values()],\n",
    "    label=\"Lin. Without LN\",\n",
    ")\n",
    "\n",
    "ax2.plot(\n",
    "    [key for key in lin_stat_alpha_ln.keys()],\n",
    "    [value for value in lin_stat_alpha_ln.values()],\n",
    "    label=\"Lin. With LN\",\n",
    ")\n",
    "\n",
    "ax2.set_xlabel(\"Data dimensions, d\", fontsize=16)\n",
    "ax2.set_ylabel(\"False Positive\", fontsize=16)\n",
    "plt.legend()\n"
   ]
  },
  {
   "cell_type": "code",
   "execution_count": null,
   "metadata": {},
   "outputs": [],
   "source": [
    "dataset_parameters[\"d\"] = 100\n",
    "dataset_parameters[\"p\"] = 10\n",
    "dataset_parameters[\"k\"] = 1\n",
    "data_with_cp, data_without_cp, t_cp_idxs = gen.generate_data(**dataset_parameters)\n",
    "\n",
    "layer_norm = nn.LayerNorm(dataset_parameters[\"d\"], elementwise_affine=False).float()\n",
    "data_with_cp_ln = (\n",
    "    layer_norm(torch.from_numpy(data_with_cp).float()).detach().numpy()\n",
    ")\n",
    "data_without_cp_ln = (\n",
    "    layer_norm(torch.from_numpy(data_without_cp).float()).detach().numpy()\n",
    ")"
   ]
  },
  {
   "cell_type": "code",
   "execution_count": null,
   "metadata": {},
   "outputs": [],
   "source": [
    "x = data_without_cp[0, 2]\n",
    "x = np.expand_dims(x, 1)\n",
    "\n",
    "delta_theta = dataset_parameters[\"k\"] * np.ones((dataset_parameters[\"p\"], 1))\n",
    "delta_theta = np.vstack((np.zeros((dataset_parameters[\"d\"] - dataset_parameters[\"p\"], 1)), delta_theta))"
   ]
  },
  {
   "cell_type": "code",
   "execution_count": null,
   "metadata": {},
   "outputs": [],
   "source": [
    "from math import log\n",
    "def generate_ln_matrix(d, beta):\n",
    "    return np.identity(d) - np.ones((d, d)) * (beta / d)\n",
    "\n",
    "def calculate_kl(x, delta_theta, beta, nu=3):\n",
    "    d = x.shape[0]\n",
    "    L = generate_ln_matrix(d, beta)\n",
    "    L_inv = np.linalg.inv(L.T @ L)\n",
    "    L_dtheta = L @ delta_theta\n",
    "\n",
    "    log_value_ln = 1 + ((x - L_dtheta).T) @ L_inv @ (x-L_dtheta) / nu\n",
    "    coef_ln = 1 + x.T @ L_inv @ x / nu\n",
    "    res_ln = coef_ln * log(log_value_ln)\n",
    "\n",
    "    log_value = 1 + (x - delta_theta).T @ (x - delta_theta) / nu\n",
    "    coef = 1 + x.T @ x / nu \n",
    "    res = coef * log(log_value)\n",
    "\n",
    "    # print(coef_ln, coef)\n",
    "    print(log_value_ln, log_value)\n",
    "    return res[0, 0], res_ln[0, 0]\n",
    "\n",
    "# res_beta = {}\n",
    "# for beta in np.arange(0, 10, 0.1):\n",
    "#     if beta == 1 or beta == 0:\n",
    "#         continue\n",
    "#     res, res_ln = calculate_kl(x, delta_theta, beta)\n",
    "#     res_beta[beta] = res_ln - res"
   ]
  },
  {
   "cell_type": "code",
   "execution_count": null,
   "metadata": {},
   "outputs": [
    {
     "name": "stdout",
     "output_type": "stream",
     "text": [
      "[[254.37955134]] [[226.18956537]]\n"
     ]
    }
   ],
   "source": [
    "res, res_ln = calculate_kl(x, delta_theta, beta)"
   ]
  },
  {
   "cell_type": "code",
   "execution_count": null,
   "metadata": {},
   "outputs": [
    {
     "data": {
      "text/plain": [
       "<matplotlib.collections.LineCollection at 0x7fbf34d2b5d0>"
      ]
     },
     "execution_count": 518,
     "metadata": {},
     "output_type": "execute_result"
    },
    {
     "data": {
      "image/png": "[encoded data removed]",
      "text/plain": [
       "<Figure size 640x480 with 1 Axes>"
      ]
     },
     "metadata": {},
     "output_type": "display_data"
    }
   ],
   "source": [
    "plt.plot(res_beta.keys(), res_beta.values())\n",
    "plt.xlabel('Beta')\n",
    "plt.ylabel('KL_ln - KL')\n",
    "plt.hlines(y=0, xmin=0, xmax=10)"
   ]
  },
  {
   "cell_type": "code",
   "execution_count": null,
   "metadata": {},
   "outputs": [],
   "source": [
    "d = x.shape[0]\n",
    "beta = 1.1\n",
    "L = generate_ln_matrix(d, beta)\n",
    "L_inv = np.linalg.inv(L.T @ L)\n",
    "L_dtheta = L @ delta_theta\n",
    "L_minus = np.linalg.inv(L)"
   ]
  },
  {
   "cell_type": "code",
   "execution_count": null,
   "metadata": {},
   "outputs": [
    {
     "data": {
      "text/plain": [
       "array([[7.93367145]])"
      ]
     },
     "execution_count": 541,
     "metadata": {},
     "output_type": "execute_result"
    }
   ],
   "source": [
    "((x - L_dtheta).T) @ L_inv @ (x-L_dtheta) - (x - delta_theta).T @ (x - delta_theta)"
   ]
  },
  {
   "cell_type": "code",
   "execution_count": null,
   "metadata": {},
   "outputs": [],
   "source": [
    "coef_1 = - beta / (d * (beta - 1))\n",
    "coef_2 = (beta - 2) / (beta - 1)\n",
    "e = np.ones((d, d))"
   ]
  },
  {
   "cell_type": "code",
   "execution_count": null,
   "metadata": {},
   "outputs": [
    {
     "data": {
      "text/plain": [
       "array([[7.93367145]])"
      ]
     },
     "execution_count": 543,
     "metadata": {},
     "output_type": "execute_result"
    }
   ],
   "source": [
    "coef_1 * (x.T @ (coef_2 * e @ x - 2 * e @ delta_theta))"
   ]
  },
  {
   "cell_type": "code",
   "execution_count": null,
   "metadata": {},
   "outputs": [
    {
     "data": {
      "text/plain": [
       "-1.1111111111111123"
      ]
     },
     "execution_count": 544,
     "metadata": {},
     "output_type": "execute_result"
    }
   ],
   "source": [
    "10 * (beta - 1) / (beta - 2) "
   ]
  },
  {
   "cell_type": "code",
   "execution_count": null,
   "metadata": {},
   "outputs": [
    {
     "data": {
      "text/plain": [
       "1"
      ]
     },
     "execution_count": 545,
     "metadata": {},
     "output_type": "execute_result"
    }
   ],
   "source": [
    "dataset_parameters[\"k\"]"
   ]
  },
  {
   "cell_type": "code",
   "execution_count": null,
   "metadata": {},
   "outputs": [
    {
     "data": {
      "text/plain": [
       "10"
      ]
     },
     "execution_count": 546,
     "metadata": {},
     "output_type": "execute_result"
    }
   ],
   "source": [
    "dataset_parameters[\"p\"]"
   ]
  },
  {
   "cell_type": "code",
   "execution_count": null,
   "metadata": {},
   "outputs": [
    {
     "data": {
      "text/plain": [
       "-4.152225618267513"
      ]
     },
     "execution_count": 547,
     "metadata": {},
     "output_type": "execute_result"
    }
   ],
   "source": [
    "x.sum()"
   ]
  },
  {
   "cell_type": "code",
   "execution_count": null,
   "metadata": {},
   "outputs": [],
   "source": []
  }
 ],
 "metadata": {
  "kernelspec": {
   "display_name": "env",
   "language": "python",
   "name": "python3"
  },
  "language_info": {
   "codemirror_mode": {
    "name": "ipython",
    "version": 3
   },
   "file_extension": ".py",
   "mimetype": "text/x-python",
   "name": "python",
   "nbconvert_exporter": "python",
   "pygments_lexer": "ipython3",
   "version": "3.7.0"
  }
 },
 "nbformat": 4,
 "nbformat_minor": 2
}
